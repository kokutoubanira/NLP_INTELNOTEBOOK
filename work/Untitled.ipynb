{
 "cells": [
  {
   "cell_type": "code",
   "execution_count": 1,
   "metadata": {},
   "outputs": [
    {
     "data": {
      "text/plain": [
       "'/opt/conda/lib/python3.7/site-packages/sudachipy/__init__.py'"
      ]
     },
     "execution_count": 1,
     "metadata": {},
     "output_type": "execute_result"
    }
   ],
   "source": [
    "import sudachipy\n",
    "sudachipy.__file__"
   ]
  },
  {
   "cell_type": "code",
   "execution_count": 3,
   "metadata": {},
   "outputs": [
    {
     "name": "stdout",
     "output_type": "stream",
     "text": [
      "LEGAL  LICENSE-2.0.txt\tsystem.dic\n"
     ]
    }
   ],
   "source": [
    "!ls /opt/conda/lib/python3.7/site-packages/sudachidict_core/resources"
   ]
  },
  {
   "cell_type": "code",
   "execution_count": 7,
   "metadata": {},
   "outputs": [
    {
     "name": "stdout",
     "output_type": "stream",
     "text": [
      "reading the source file...1 words\n",
      "writing the POS table...2 bytes\n",
      "writing the connection matrix...4 bytes\n",
      "building the trie...done\n",
      "writing the trie...1028 bytes\n",
      "writing the word-ID table...9 bytes\n",
      "writing the word parameters...10 bytes\n",
      "writing the word_infos...48 bytes\n",
      "writing word_info offsets...4 bytes\n"
     ]
    }
   ],
   "source": [
    "!sudachipy ubuild \\\n",
    "  -s /opt/conda/lib/python3.7/site-packages/sudachidict_core/resources/system.dic \\\n",
    "  add_term.csv"
   ]
  },
  {
   "cell_type": "code",
   "execution_count": 11,
   "metadata": {},
   "outputs": [
    {
     "name": "stdout",
     "output_type": "stream",
     "text": [
      "char.def  rewrite.def  sudachi.json  unk.def\n"
     ]
    }
   ],
   "source": [
    "!ls /opt/conda/lib/python3.7/site-packages/sudachipy/resources"
   ]
  },
  {
   "cell_type": "code",
   "execution_count": 5,
   "metadata": {},
   "outputs": [
    {
     "name": "stdout",
     "output_type": "stream",
     "text": [
      "/home/jovyan\n"
     ]
    }
   ],
   "source": [
    "!pwd"
   ]
  },
  {
   "cell_type": "code",
   "execution_count": 8,
   "metadata": {},
   "outputs": [
    {
     "name": "stdout",
     "output_type": "stream",
     "text": [
      "アナと雪の女王\n",
      "を\n",
      "観\n",
      "に\n",
      "行き\n",
      "たい\n"
     ]
    }
   ],
   "source": [
    "import spacy\n",
    "\n",
    "nlp = spacy.load('ja_ginza')\n",
    "doc = nlp('アナと雪の女王を観に行きたい')\n",
    "\n",
    "for sent in doc.sents:\n",
    "    for token in sent:\n",
    "        print(token.orth_)"
   ]
  },
  {
   "cell_type": "markdown",
   "metadata": {},
   "source": [
    "# 万病辞書変換"
   ]
  },
  {
   "cell_type": "code",
   "execution_count": 3,
   "metadata": {},
   "outputs": [],
   "source": [
    "import sys\n",
    "import unicodedata\n",
    "\n",
    "\n",
    "class SudachiCharNormalizer:\n",
    "    def __init__(self, rewrite_def_path=\"./rewrite.def\"):\n",
    "        self.ignore_normalize_set = set()\n",
    "        self.replace_char_map = {}\n",
    "        self.read_rewrite_def(rewrite_def_path)\n",
    "        \n",
    "    def read_rewrite_def(self, rewrite_def_path):\n",
    "        with open(rewrite_def_path, encoding=\"utf8\") as f:\n",
    "            for i, line in enumerate(f):\n",
    "                line = line.strip()\n",
    "                if line.startswith(\"#\") or not line:\n",
    "                    continue\n",
    "\n",
    "                cols = line.split()\n",
    "                if len(cols) == 1:\n",
    "                    if len(cols[0]) != 1:\n",
    "                        raise Exception(\"'{}' is not a single character at line {}\".format(cols[0], i))\n",
    "                    self.ignore_normalize_set.add(cols[0])\n",
    "                elif len(cols) == 2:\n",
    "                    if cols[0] in self.replace_char_map:\n",
    "                        raise Exception(\"'Replacement for '{}' defined again at line {}\".format(cols[0], i))\n",
    "                    self.replace_char_map[cols[0]] = cols[1]\n",
    "                else:\n",
    "                    raise Exception(\"Invalid format '{}' at line {}\".format(line, i))\n",
    "                    \n",
    "    def rewrite(self, text):\n",
    "        chars_after = []\n",
    "\n",
    "        offset = 0\n",
    "        next_offset = 0\n",
    "        i = -1\n",
    "        while True:\n",
    "            i += 1\n",
    "            if i >= len(text):\n",
    "                break\n",
    "            textloop = False\n",
    "            offset += next_offset\n",
    "            next_offset = 0\n",
    "\n",
    "            # 1. replace char without normalize\n",
    "            for l in range(len(text) - i, 0, -1):\n",
    "                replace = self.replace_char_map.get(text[i:i+l])\n",
    "                if replace:\n",
    "                    chars_after.append(replace)\n",
    "                    next_offset += len(replace) - l\n",
    "                    i += l - 1\n",
    "                    textloop = True\n",
    "                    continue\n",
    "            if textloop:\n",
    "                continue\n",
    "\n",
    "            # 2. normalize    \n",
    "            # 2-1. capital alphabet (not only latin but greek, cyrillic, etc) -> small\n",
    "            original = text[i]\n",
    "            lower = original.lower()\n",
    "            if lower in self.ignore_normalize_set:\n",
    "                replace = lower\n",
    "            else:\n",
    "                # 2-2. normalize (except in ignoreNormalize)\n",
    "                # e.g. full-width alphabet -> half-width / ligature / etc.\n",
    "                replace = unicodedata.normalize(\"NFKC\", lower)\n",
    "            next_offset = len(replace) - 1\n",
    "            chars_after.append(replace)\n",
    "\n",
    "        return \"\".join(chars_after)"
   ]
  },
  {
   "cell_type": "code",
   "execution_count": 16,
   "metadata": {},
   "outputs": [],
   "source": [
    "import pandas as pd\n",
    "\n",
    "def extract_yomigana(s):\n",
    "    yomi = s.split(\";\")[0]\n",
    "    if yomi != \"nan\":\n",
    "        return yomi\n",
    "    else:\n",
    "        return \"\"\n",
    "\n",
    "\n",
    "def convert_dict_format(s, normalizer):\n",
    "    midashi = normalizer.rewrite(s[0]).replace(\",\", \"、\")  # 出現形\n",
    "    word = s[0]  # 出現形\n",
    "    yomi = extract_yomigana(s[4])  # 複合文字列ラベル\n",
    "    return f\"{midashi},4786,4786,8000,{midashi},名詞,固有名詞,一般,*,*,*,{yomi},{word},*,*,*,*,*\""
   ]
  },
  {
   "cell_type": "code",
   "execution_count": 17,
   "metadata": {},
   "outputs": [],
   "source": [
    "normalizer = SudachiCharNormalizer(rewrite_def_path=\"/opt/conda/lib/python3.7/site-packages/sudachipy/resources/rewrite.def\")"
   ]
  },
  {
   "cell_type": "code",
   "execution_count": 10,
   "metadata": {},
   "outputs": [],
   "source": [
    "df = pd.read_excel(\"../data/MANBYO_20190704.xlsx\")"
   ]
  },
  {
   "cell_type": "code",
   "execution_count": 11,
   "metadata": {},
   "outputs": [
    {
     "data": {
      "text/html": [
       "<div>\n",
       "<style scoped>\n",
       "    .dataframe tbody tr th:only-of-type {\n",
       "        vertical-align: middle;\n",
       "    }\n",
       "\n",
       "    .dataframe tbody tr th {\n",
       "        vertical-align: top;\n",
       "    }\n",
       "\n",
       "    .dataframe thead th {\n",
       "        text-align: right;\n",
       "    }\n",
       "</style>\n",
       "<table border=\"1\" class=\"dataframe\">\n",
       "  <thead>\n",
       "    <tr style=\"text-align: right;\">\n",
       "      <th></th>\n",
       "      <th>出現形</th>\n",
       "      <th>ICDコード</th>\n",
       "      <th>標準病名</th>\n",
       "      <th>信頼度LEVEL</th>\n",
       "      <th>しゅつげんけい;icd=ICDコード;lv=信頼度LEVEL/freq=頻度LEVEL;標準病名</th>\n",
       "    </tr>\n",
       "  </thead>\n",
       "  <tbody>\n",
       "    <tr>\n",
       "      <td>0</td>\n",
       "      <td>疼痛</td>\n",
       "      <td>R529</td>\n",
       "      <td>疼痛</td>\n",
       "      <td>S</td>\n",
       "      <td>とうつう;icd=R529;lv=S/freq=高頻度;疼痛</td>\n",
       "    </tr>\n",
       "    <tr>\n",
       "      <td>1</td>\n",
       "      <td>発熱</td>\n",
       "      <td>R509</td>\n",
       "      <td>発熱</td>\n",
       "      <td>S</td>\n",
       "      <td>はつねつ;icd=R509;lv=S/freq=高頻度;発熱</td>\n",
       "    </tr>\n",
       "    <tr>\n",
       "      <td>2</td>\n",
       "      <td>嘔気</td>\n",
       "      <td>R11</td>\n",
       "      <td>嘔気</td>\n",
       "      <td>S</td>\n",
       "      <td>おうき;icd=R11;lv=S/freq=高頻度;嘔気</td>\n",
       "    </tr>\n",
       "    <tr>\n",
       "      <td>3</td>\n",
       "      <td>出血</td>\n",
       "      <td>R58</td>\n",
       "      <td>出血</td>\n",
       "      <td>S</td>\n",
       "      <td>しゅっけつ;icd=R58;lv=S/freq=高頻度;出血</td>\n",
       "    </tr>\n",
       "    <tr>\n",
       "      <td>4</td>\n",
       "      <td>糖尿病</td>\n",
       "      <td>E14</td>\n",
       "      <td>糖尿病</td>\n",
       "      <td>S</td>\n",
       "      <td>とうにょうびょう;icd=E14;lv=S/freq=高頻度;糖尿病</td>\n",
       "    </tr>\n",
       "    <tr>\n",
       "      <td>...</td>\n",
       "      <td>...</td>\n",
       "      <td>...</td>\n",
       "      <td>...</td>\n",
       "      <td>...</td>\n",
       "      <td>...</td>\n",
       "    </tr>\n",
       "    <tr>\n",
       "      <td>362861</td>\n",
       "      <td>関節可動閾障害</td>\n",
       "      <td>NaN</td>\n",
       "      <td>NaN</td>\n",
       "      <td>F</td>\n",
       "      <td>nan;icd=nan;lv=F/freq=低頻度;nan</td>\n",
       "    </tr>\n",
       "    <tr>\n",
       "      <td>362862</td>\n",
       "      <td>喉頭知覚亢進</td>\n",
       "      <td>NaN</td>\n",
       "      <td>NaN</td>\n",
       "      <td>F</td>\n",
       "      <td>nan;icd=nan;lv=F/freq=低頻度;nan</td>\n",
       "    </tr>\n",
       "    <tr>\n",
       "      <td>362863</td>\n",
       "      <td>側面濁音なし</td>\n",
       "      <td>NaN</td>\n",
       "      <td>NaN</td>\n",
       "      <td>F</td>\n",
       "      <td>nan;icd=nan;lv=F/freq=低頻度;nan</td>\n",
       "    </tr>\n",
       "    <tr>\n",
       "      <td>362864</td>\n",
       "      <td>脾実質石灰化</td>\n",
       "      <td>NaN</td>\n",
       "      <td>NaN</td>\n",
       "      <td>F</td>\n",
       "      <td>nan;icd=nan;lv=F/freq=低頻度;nan</td>\n",
       "    </tr>\n",
       "    <tr>\n",
       "      <td>362865</td>\n",
       "      <td>不感蒸散分</td>\n",
       "      <td>NaN</td>\n",
       "      <td>NaN</td>\n",
       "      <td>F</td>\n",
       "      <td>nan;icd=nan;lv=F/freq=低頻度;nan</td>\n",
       "    </tr>\n",
       "  </tbody>\n",
       "</table>\n",
       "<p>362866 rows × 5 columns</p>\n",
       "</div>"
      ],
      "text/plain": [
       "            出現形 ICDコード 標準病名 信頼度LEVEL  \\\n",
       "0            疼痛   R529   疼痛        S   \n",
       "1            発熱   R509   発熱        S   \n",
       "2            嘔気    R11   嘔気        S   \n",
       "3            出血    R58   出血        S   \n",
       "4           糖尿病    E14  糖尿病        S   \n",
       "...         ...    ...  ...      ...   \n",
       "362861  関節可動閾障害    NaN  NaN        F   \n",
       "362862   喉頭知覚亢進    NaN  NaN        F   \n",
       "362863   側面濁音なし    NaN  NaN        F   \n",
       "362864   脾実質石灰化    NaN  NaN        F   \n",
       "362865    不感蒸散分    NaN  NaN        F   \n",
       "\n",
       "       しゅつげんけい;icd=ICDコード;lv=信頼度LEVEL/freq=頻度LEVEL;標準病名  \n",
       "0                        とうつう;icd=R529;lv=S/freq=高頻度;疼痛  \n",
       "1                        はつねつ;icd=R509;lv=S/freq=高頻度;発熱  \n",
       "2                          おうき;icd=R11;lv=S/freq=高頻度;嘔気  \n",
       "3                        しゅっけつ;icd=R58;lv=S/freq=高頻度;出血  \n",
       "4                    とうにょうびょう;icd=E14;lv=S/freq=高頻度;糖尿病  \n",
       "...                                                 ...  \n",
       "362861                    nan;icd=nan;lv=F/freq=低頻度;nan  \n",
       "362862                    nan;icd=nan;lv=F/freq=低頻度;nan  \n",
       "362863                    nan;icd=nan;lv=F/freq=低頻度;nan  \n",
       "362864                    nan;icd=nan;lv=F/freq=低頻度;nan  \n",
       "362865                    nan;icd=nan;lv=F/freq=低頻度;nan  \n",
       "\n",
       "[362866 rows x 5 columns]"
      ]
     },
     "execution_count": 11,
     "metadata": {},
     "output_type": "execute_result"
    }
   ],
   "source": [
    "df"
   ]
  },
  {
   "cell_type": "code",
   "execution_count": 12,
   "metadata": {},
   "outputs": [],
   "source": [
    "icd_dict = {\"出現形\":[], \"ICD\": []}\n",
    "for i in df[[\"出現形\", \"ICDコード\"]].values:\n",
    "    icd_dict[\"出現形\"].append(i[0])\n",
    "    icd_dict[\"ICD\"].append(i[1])"
   ]
  },
  {
   "cell_type": "code",
   "execution_count": 13,
   "metadata": {},
   "outputs": [],
   "source": [
    "df_icd = pd.DataFrame(icd_dict)"
   ]
  },
  {
   "cell_type": "code",
   "execution_count": 14,
   "metadata": {},
   "outputs": [],
   "source": [
    "df_icd.to_csv(\"icd.csv\")"
   ]
  },
  {
   "cell_type": "code",
   "execution_count": 18,
   "metadata": {},
   "outputs": [
    {
     "name": "stderr",
     "output_type": "stream",
     "text": [
      "/opt/conda/lib/python3.7/site-packages/ipykernel_launcher.py:3: FutureWarning: The signature of `Series.to_csv` was aligned to that of `DataFrame.to_csv`, and argument 'header' will change its default value from False to True: please pass an explicit value to suppress this warning.\n",
      "  This is separate from the ipykernel package so we can avoid doing imports until\n",
      "/opt/conda/lib/python3.7/site-packages/ipykernel_launcher.py:7: FutureWarning: The signature of `Series.to_csv` was aligned to that of `DataFrame.to_csv`, and argument 'header' will change its default value from False to True: please pass an explicit value to suppress this warning.\n",
      "  import sys\n"
     ]
    }
   ],
   "source": [
    "target_df = df[df[\"信頼度LEVEL\"].isin([\"S\", \"A\", \"B\", \"C\"])]\n",
    "output_df = target_df.apply(lambda x: convert_dict_format(x, normalizer), axis=1)\n",
    "output_df.to_csv(\"manbyo20190704_sabc_dic.txt\", header=None, index=None, sep=\"|\")\n",
    "\n",
    "\n",
    "output_df = df.apply(lambda x: convert_dict_format(x, normalizer), axis=1)\n",
    "output_df.to_csv(\"manbyo20190704_all_dic.txt\", header=None, index=None, sep=\"|\")"
   ]
  },
  {
   "cell_type": "code",
   "execution_count": 18,
   "metadata": {},
   "outputs": [
    {
     "name": "stdout",
     "output_type": "stream",
     "text": [
      "reading the source file...362866 words\n",
      "writing the POS table...2 bytes\n",
      "writing the connection matrix...4 bytes\n",
      "building the trie...done\n",
      "writing the trie...13386756 bytes\n",
      "writing the word-ID table...1813299 bytes\n",
      "writing the word parameters...2177200 bytes\n",
      "writing the word_infos...12334775 bytes\n",
      "writing word_info offsets...1451464 bytes\n"
     ]
    }
   ],
   "source": [
    "!sudachipy ubuild \\\n",
    "  -s /opt/conda/lib/python3.7/site-packages/sudachidict_core/resources/system.dic \\\n",
    "  manbyo20190704_all_dic.txt -o user_mall.dic"
   ]
  },
  {
   "cell_type": "code",
   "execution_count": 19,
   "metadata": {},
   "outputs": [
    {
     "name": "stdout",
     "output_type": "stream",
     "text": [
      "reading the source file...73342 words\n",
      "writing the POS table...2 bytes\n",
      "writing the connection matrix...4 bytes\n",
      "building the trie...done\n",
      "writing the trie...2954244 bytes\n",
      "writing the word-ID table...366565 bytes\n",
      "writing the word parameters...440056 bytes\n",
      "writing the word_infos...3228270 bytes\n",
      "writing word_info offsets...293368 bytes\n"
     ]
    }
   ],
   "source": [
    "!sudachipy ubuild \\\n",
    "  -s /opt/conda/lib/python3.7/site-packages/sudachidict_core/resources/system.dic \\\n",
    "  manbyo20190704_sabc_dic.txt -o user_msabc.dic"
   ]
  },
  {
   "cell_type": "code",
   "execution_count": 21,
   "metadata": {},
   "outputs": [
    {
     "name": "stdout",
     "output_type": "stream",
     "text": [
      "線維筋痛症\n",
      "に\n",
      "なっ\n",
      "た\n"
     ]
    }
   ],
   "source": [
    "import spacy\n",
    "\n",
    "nlp = spacy.load('ja_ginza')\n",
    "doc = nlp('線維筋痛症になった')\n",
    "\n",
    "for sent in doc.sents:\n",
    "    for token in sent:\n",
    "        print(token.orth_)"
   ]
  },
  {
   "cell_type": "code",
   "execution_count": null,
   "metadata": {},
   "outputs": [],
   "source": []
  }
 ],
 "metadata": {
  "kernelspec": {
   "display_name": "Python 3",
   "language": "python",
   "name": "python3"
  },
  "language_info": {
   "codemirror_mode": {
    "name": "ipython",
    "version": 3
   },
   "file_extension": ".py",
   "mimetype": "text/x-python",
   "name": "python",
   "nbconvert_exporter": "python",
   "pygments_lexer": "ipython3",
   "version": "3.7.4"
  }
 },
 "nbformat": 4,
 "nbformat_minor": 4
}
