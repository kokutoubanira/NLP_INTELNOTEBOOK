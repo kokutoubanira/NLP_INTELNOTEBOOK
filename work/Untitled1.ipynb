{
 "cells": [
  {
   "cell_type": "code",
   "execution_count": 1,
   "metadata": {},
   "outputs": [],
   "source": [
    "import codecs\n",
    "import re\n",
    "import requests\n",
    "from bs4 import BeautifulSoup\n",
    "\n",
    "# URLとキーワードリスト\n",
    "url = \"https://ja.wikipedia.org/wiki/\"\n",
    "keyword_list = [\n",
    "    \"中島敦\", \"太宰治\", \"国木田独歩\",\n",
    "    \"江戸川乱歩\", \"谷崎潤一郎\", \"宮沢賢治\",\n",
    "    \"与謝野晶子\", \"芥川龍之介\", \"樋口一葉\",\n",
    "    \"中原中也\", \"尾崎紅葉\", \"梶井基次郎\",\n",
    "    \"夢野久作\", \"森鷗外\", \"織田作之助\"   \n",
    "]\n",
    "\n",
    "# Wikipediaの小説家の記事のダウンロード\n",
    "corpus = []\n",
    "for keyword in keyword_list:\n",
    "    response = requests.get(url + keyword)\n",
    "   \n",
    "    soup = BeautifulSoup(response.text, \"html.parser\")\n",
    "    for p_tag in soup.find_all('p'):\n",
    "        # 空白の削除\n",
    "        text = \"\".join(p_tag.text.strip().split(\" \"))\n",
    "\n",
    "        # 空行は無処理\n",
    "        if len(text) == 0:\n",
    "            continue\n",
    "\n",
    "        # 注釈の削除 (例: [注釈1], [注釈1], [1])\n",
    "        text = re.sub(r\"\\[注釈[0-9]+\\]\", \"\", text)\n",
    "        text = re.sub(r\"\\[注[0-9]+\\]\", \"\", text)\n",
    "        text = re.sub(r\"\\[[0-9]+\\]\", \"\", text)\n",
    "\n",
    "        # 行の追加\n",
    "        corpus.append(text)\n",
    "\n",
    "# ファイルの保存       \n",
    "print(*corpus, sep=\"\\n\", file=codecs.open(\"wiki.txt\", \"w\", \"utf-8\"))\n",
    "import sentencepiece as spm\n",
    "\n",
    "# 学習の実行\n",
    "spm.SentencePieceTrainer.Train(\n",
    "   '--input=wiki.txt --model_prefix=sentencepiece --vocab_size=8000 --character_coverage=0.9995'\n",
    ")"
   ]
  },
  {
   "cell_type": "code",
   "execution_count": 2,
   "metadata": {},
   "outputs": [
    {
     "name": "stdout",
     "output_type": "stream",
     "text": [
      "中島敦（なかじまあつし、1909年（明治42年）5月5日-1942年（昭和17年）12月4日）は、日本の小説家。代表作は『山月記』『光と風と夢』『弟子』『李陵』など。第一高等学校、東京帝国大学を卒業後、横浜高等女学校の教員勤務のかたわら小説執筆を続け、パラオ南洋庁の官吏（教科書編修書記）を経て専業作家になるも、同年中に持病の喘息悪化のため33歳で病没。死後に出版された全集は毎日出版文化賞を受賞した。\n",
      "['▁', '中島敦', '(', 'なか', 'じ', 'ま', 'あ', 'つ', 'し', '、190', '9', '年', '(', '明治', '4', '2', '年', ')', '5', '月', '5', '日', '-194', '2', '年', '(', '昭和', '17', '年', ')', '12', '月', '4', '日', ')', 'は', '、', '日本の小説家', '。', '代表作', 'は', '『', '山月記', '』『', '光と風と夢', '』『', '弟子', '』『', '李陵', '』', 'など', '。', '第一高等学校', '、', '東京帝国大学', 'を', '卒業後', '、', '横浜高等女学校', 'の', '教員', '勤務', 'の', 'かたわら', '小説', '執筆', 'を続け', '、', 'パラオ南洋庁', 'の', '官', '吏', '(', '教科書', '編修書記', ')', 'を経て', '専業作家', 'になる', 'も', '、', '同年', '中', 'に持病の', '喘息悪化', 'のため', '33', '歳で病没', '。', '死後に', '出版された', '全集', 'は', '毎日出版文化賞を受賞し', 'た', '。']\n"
     ]
    }
   ],
   "source": [
    "import sentencepiece as spm\n",
    "\n",
    "# モデルの作成\n",
    "sp = spm.SentencePieceProcessor()\n",
    "sp.Load(\"sentencepiece.model\")\n",
    "# テキストを語彙列に分割\n",
    "print(corpus[0])\n",
    "print(sp.EncodeAsPieces(corpus[0]))"
   ]
  },
  {
   "cell_type": "code",
   "execution_count": 6,
   "metadata": {},
   "outputs": [
    {
     "name": "stdout",
     "output_type": "stream",
     "text": [
      "中島敦（なかじまあつし、1909年（明治42年）5月5日-1942年（昭和17年）12月4日）は、日本の小説家。代表作は『山月記』『光と風と夢』『弟子』『李陵』など。第一高等学校、東京帝国大学を卒業後、横浜高等女学校の教員勤務のかたわら小説執筆を続け、パラオ南洋庁の官吏（教科書編修書記）を経て専業作家になるも、同年中に持病の喘息悪化のため33歳で病没。死後に出版された全集は毎日出版文化賞を受賞した。\n",
      "[20, 358, 11, 1013, 190, 269, 230, 116, 27, 754, 51, 9, 11, 50, 35, 30, 9, 12, 40, 19, 40, 26, 2631, 30, 9, 11, 54, 200, 9, 12, 72, 19, 35, 26, 12, 10, 3, 979, 5, 983, 10, 15, 417, 109, 720, 109, 480, 109, 723, 14, 39, 5, 1479, 3, 2479, 7, 1294, 3, 4230, 4, 2298, 690, 4, 1953, 80, 484, 2231, 3, 6640, 4, 280, 7801, 11, 1036, 6086, 12, 1107, 6354, 680, 22, 3, 232, 74, 6427, 6459, 284, 1312, 5735, 5, 3384, 3401, 328, 10, 5060, 24, 5]\n",
      "[20, 845, 2964, 2930, 5169, 776, 1890, 141, 6861, 7, 296, 178, 37]\n"
     ]
    }
   ],
   "source": [
    "# テキストを語彙IDに分割\n",
    "print(corpus[0])\n",
    "print(sp.EncodeAsIds(corpus[0]))\n",
    "print(sp.encode_as_ids(\"python前処理を実行する\"))"
   ]
  },
  {
   "cell_type": "code",
   "execution_count": 15,
   "metadata": {},
   "outputs": [
    {
     "ename": "Exception",
     "evalue": "Can't find JUMAN command: jumanpp",
     "output_type": "error",
     "traceback": [
      "\u001b[0;31m---------------------------------------------------------------------------\u001b[0m",
      "\u001b[0;31mException\u001b[0m                                 Traceback (most recent call last)",
      "\u001b[0;32m<ipython-input-15-f765799469cb>\u001b[0m in \u001b[0;36m<module>\u001b[0;34m\u001b[0m\n\u001b[1;32m      1\u001b[0m \u001b[0;32mfrom\u001b[0m \u001b[0mpyknp\u001b[0m \u001b[0;32mimport\u001b[0m \u001b[0mJuman\u001b[0m\u001b[0;34m\u001b[0m\u001b[0;34m\u001b[0m\u001b[0m\n\u001b[0;32m----> 2\u001b[0;31m \u001b[0mjuman\u001b[0m \u001b[0;34m=\u001b[0m \u001b[0mJuman\u001b[0m\u001b[0;34m(\u001b[0m\u001b[0;34m)\u001b[0m\u001b[0;34m\u001b[0m\u001b[0;34m\u001b[0m\u001b[0m\n\u001b[0m\u001b[1;32m      3\u001b[0m \u001b[0mtokens\u001b[0m \u001b[0;34m=\u001b[0m \u001b[0mjumanpp\u001b[0m\u001b[0;34m.\u001b[0m\u001b[0manalysis\u001b[0m\u001b[0;34m(\u001b[0m\u001b[0mtext\u001b[0m\u001b[0;34m)\u001b[0m\u001b[0;34m\u001b[0m\u001b[0;34m\u001b[0m\u001b[0m\n\u001b[1;32m      4\u001b[0m \u001b[0;32mfor\u001b[0m \u001b[0mmrph\u001b[0m \u001b[0;32min\u001b[0m \u001b[0mtokens\u001b[0m\u001b[0;34m.\u001b[0m\u001b[0mmrph_list\u001b[0m\u001b[0;34m(\u001b[0m\u001b[0;34m)\u001b[0m\u001b[0;34m:\u001b[0m\u001b[0;34m\u001b[0m\u001b[0;34m\u001b[0m\u001b[0m\n\u001b[1;32m      5\u001b[0m     \u001b[0mprint\u001b[0m\u001b[0;34m(\u001b[0m\u001b[0mmrph\u001b[0m\u001b[0;34m.\u001b[0m\u001b[0mmidasi\u001b[0m\u001b[0;34m)\u001b[0m\u001b[0;34m\u001b[0m\u001b[0;34m\u001b[0m\u001b[0m\n",
      "\u001b[0;32m/opt/conda/lib/python3.7/site-packages/pyknp/juman/juman.py\u001b[0m in \u001b[0;36m__init__\u001b[0;34m(self, command, server, port, timeout, option, rcfile, ignorepattern, pattern, jumanpp, multithreading)\u001b[0m\n\u001b[1;32m     64\u001b[0m             \u001b[0;32mraise\u001b[0m \u001b[0mException\u001b[0m\u001b[0;34m(\u001b[0m\u001b[0;34m\"Can't read rcfile (%s)!\"\u001b[0m \u001b[0;34m%\u001b[0m \u001b[0mself\u001b[0m\u001b[0;34m.\u001b[0m\u001b[0mrcfile\u001b[0m\u001b[0;34m)\u001b[0m\u001b[0;34m\u001b[0m\u001b[0;34m\u001b[0m\u001b[0m\n\u001b[1;32m     65\u001b[0m         \u001b[0;32mif\u001b[0m \u001b[0mdistutils\u001b[0m\u001b[0;34m.\u001b[0m\u001b[0mspawn\u001b[0m\u001b[0;34m.\u001b[0m\u001b[0mfind_executable\u001b[0m\u001b[0;34m(\u001b[0m\u001b[0mself\u001b[0m\u001b[0;34m.\u001b[0m\u001b[0mcommand\u001b[0m\u001b[0;34m)\u001b[0m \u001b[0;32mis\u001b[0m \u001b[0;32mNone\u001b[0m\u001b[0;34m:\u001b[0m\u001b[0;34m\u001b[0m\u001b[0;34m\u001b[0m\u001b[0m\n\u001b[0;32m---> 66\u001b[0;31m             \u001b[0;32mraise\u001b[0m \u001b[0mException\u001b[0m\u001b[0;34m(\u001b[0m\u001b[0;34m\"Can't find JUMAN command: %s\"\u001b[0m \u001b[0;34m%\u001b[0m \u001b[0mself\u001b[0m\u001b[0;34m.\u001b[0m\u001b[0mcommand\u001b[0m\u001b[0;34m)\u001b[0m\u001b[0;34m\u001b[0m\u001b[0;34m\u001b[0m\u001b[0m\n\u001b[0m\u001b[1;32m     67\u001b[0m \u001b[0;34m\u001b[0m\u001b[0m\n\u001b[1;32m     68\u001b[0m     \u001b[0;32mdef\u001b[0m \u001b[0mjuman_lines\u001b[0m\u001b[0;34m(\u001b[0m\u001b[0mself\u001b[0m\u001b[0;34m,\u001b[0m \u001b[0minput_str\u001b[0m\u001b[0;34m)\u001b[0m\u001b[0;34m:\u001b[0m\u001b[0;34m\u001b[0m\u001b[0;34m\u001b[0m\u001b[0m\n",
      "\u001b[0;31mException\u001b[0m: Can't find JUMAN command: jumanpp"
     ]
    }
   ],
   "source": [
    "from pyknp import Juman\n",
    "jumanpp = Juman()\n",
    "tokens = jumanpp.analysis(text)\n",
    "for mrph in tokens.mrph_list():\n",
    "    print(mrph.midasi)"
   ]
  },
  {
   "cell_type": "code",
   "execution_count": null,
   "metadata": {},
   "outputs": [],
   "source": []
  }
 ],
 "metadata": {
  "kernelspec": {
   "display_name": "Python 3",
   "language": "python",
   "name": "python3"
  },
  "language_info": {
   "codemirror_mode": {
    "name": "ipython",
    "version": 3
   },
   "file_extension": ".py",
   "mimetype": "text/x-python",
   "name": "python",
   "nbconvert_exporter": "python",
   "pygments_lexer": "ipython3",
   "version": "3.7.4"
  }
 },
 "nbformat": 4,
 "nbformat_minor": 4
}
